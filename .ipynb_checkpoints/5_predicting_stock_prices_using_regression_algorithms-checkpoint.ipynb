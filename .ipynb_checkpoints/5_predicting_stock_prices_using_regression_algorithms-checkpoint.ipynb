{
 "cells": [
  {
   "cell_type": "code",
   "execution_count": 1,
   "id": "83f1e953",
   "metadata": {},
   "outputs": [],
   "source": [
    "import numpy as np\n",
    "import pandas as pd\n",
    "import sklearn\n",
    "import matplotlib as mpl\n",
    "import matplotlib.pyplot as plt\n",
    "import os\n",
    "from pathlib import Path\n",
    "from collections import defaultdict"
   ]
  },
  {
   "cell_type": "code",
   "execution_count": 2,
   "id": "d103b8c1",
   "metadata": {},
   "outputs": [],
   "source": [
    "%matplotlib inline"
   ]
  },
  {
   "cell_type": "code",
   "execution_count": 3,
   "id": "30cac1d1",
   "metadata": {},
   "outputs": [],
   "source": [
    "mpl.rcParams[\"axes.grid\"] = False\n",
    "mpl.rcParams[\"figure.figsize\"] = (8,6)"
   ]
  },
  {
   "cell_type": "code",
   "execution_count": 4,
   "id": "340e82c3",
   "metadata": {},
   "outputs": [],
   "source": [
    "df_path = Path(os.getcwd()) / \"StockHistoricalPrices.csv\""
   ]
  },
  {
   "cell_type": "code",
   "execution_count": 5,
   "id": "453ec27d",
   "metadata": {},
   "outputs": [],
   "source": [
    "df = pd.read_csv(df_path, parse_dates=[0], infer_datetime_format=True)"
   ]
  },
  {
   "cell_type": "code",
   "execution_count": 6,
   "id": "ebb1e6f0",
   "metadata": {},
   "outputs": [
    {
     "data": {
      "text/html": [
       "<div>\n",
       "<style scoped>\n",
       "    .dataframe tbody tr th:only-of-type {\n",
       "        vertical-align: middle;\n",
       "    }\n",
       "\n",
       "    .dataframe tbody tr th {\n",
       "        vertical-align: top;\n",
       "    }\n",
       "\n",
       "    .dataframe thead th {\n",
       "        text-align: right;\n",
       "    }\n",
       "</style>\n",
       "<table border=\"1\" class=\"dataframe\">\n",
       "  <thead>\n",
       "    <tr style=\"text-align: right;\">\n",
       "      <th></th>\n",
       "      <th>Date</th>\n",
       "      <th>Open</th>\n",
       "      <th>High</th>\n",
       "      <th>Low</th>\n",
       "      <th>Close</th>\n",
       "      <th>Volume</th>\n",
       "    </tr>\n",
       "  </thead>\n",
       "  <tbody>\n",
       "    <tr>\n",
       "      <th>0</th>\n",
       "      <td>1988-05-27</td>\n",
       "      <td>1966.7</td>\n",
       "      <td>1970.8</td>\n",
       "      <td>1944.4</td>\n",
       "      <td>1956.4</td>\n",
       "      <td>10378493.0</td>\n",
       "    </tr>\n",
       "    <tr>\n",
       "      <th>1</th>\n",
       "      <td>1988-05-31</td>\n",
       "      <td>1959.4</td>\n",
       "      <td>2034.5</td>\n",
       "      <td>1959.4</td>\n",
       "      <td>2031.1</td>\n",
       "      <td>21163843.0</td>\n",
       "    </tr>\n",
       "    <tr>\n",
       "      <th>2</th>\n",
       "      <td>1988-06-01</td>\n",
       "      <td>2031.1</td>\n",
       "      <td>2076.3</td>\n",
       "      <td>2021.3</td>\n",
       "      <td>2064.0</td>\n",
       "      <td>34987714.0</td>\n",
       "    </tr>\n",
       "    <tr>\n",
       "      <th>3</th>\n",
       "      <td>1988-06-02</td>\n",
       "      <td>2064.0</td>\n",
       "      <td>2073.3</td>\n",
       "      <td>2030.9</td>\n",
       "      <td>2052.5</td>\n",
       "      <td>23401834.0</td>\n",
       "    </tr>\n",
       "    <tr>\n",
       "      <th>4</th>\n",
       "      <td>1988-06-03</td>\n",
       "      <td>2052.5</td>\n",
       "      <td>2080.7</td>\n",
       "      <td>2040.0</td>\n",
       "      <td>2071.3</td>\n",
       "      <td>19643347.0</td>\n",
       "    </tr>\n",
       "  </tbody>\n",
       "</table>\n",
       "</div>"
      ],
      "text/plain": [
       "        Date    Open    High     Low   Close      Volume\n",
       "0 1988-05-27  1966.7  1970.8  1944.4  1956.4  10378493.0\n",
       "1 1988-05-31  1959.4  2034.5  1959.4  2031.1  21163843.0\n",
       "2 1988-06-01  2031.1  2076.3  2021.3  2064.0  34987714.0\n",
       "3 1988-06-02  2064.0  2073.3  2030.9  2052.5  23401834.0\n",
       "4 1988-06-03  2052.5  2080.7  2040.0  2071.3  19643347.0"
      ]
     },
     "execution_count": 6,
     "metadata": {},
     "output_type": "execute_result"
    }
   ],
   "source": [
    "df.head(5)"
   ]
  },
  {
   "cell_type": "code",
   "execution_count": 7,
   "id": "5688fc91",
   "metadata": {},
   "outputs": [],
   "source": [
    "def add_original_features(df, df_new):\n",
    "    \"\"\"\n",
    "    This function is used to convert the features so that past parameters are present in a row. Then, \n",
    "    we will create a model to predict the closing price on a day using the past parameters.\n",
    "    \"\"\"\n",
    "    df_new[\"date\"] = df[\"Date\"]\n",
    "    df_new[\"open\"] = df[\"Open\"]\n",
    "    df_new[\"open_1\"] = df[\"Open\"].shift(1)\n",
    "    df_new[\"volume_1\"] = df[\"Volume\"].shift(1)\n",
    "    df_new[\"high_1\"] = df[\"High\"].shift(1)\n",
    "    df_new[\"low_1\"] = df[\"Low\"].shift(1)\n",
    "    df_new[\"close_1\"] = df[\"Close\"].shift(1)\n",
    "    df_new[\"close\"] = df[\"Close\"]"
   ]
  },
  {
   "cell_type": "code",
   "execution_count": 8,
   "id": "94118929",
   "metadata": {},
   "outputs": [],
   "source": [
    "def add_avg_price(df, df_new):\n",
    "    df_new[\"avg_price_5\"] = df[\"Close\"].rolling(5).mean().shift(1)\n",
    "    df_new[\"avg_price_30\"] = df[\"Close\"].rolling(21).mean().shift(1)\n",
    "    df_new[\"avg_price_365\"] = df[\"Close\"].rolling(252).mean().shift(1)\n",
    "    df_new[\"avg_price_5_30\"] = df_new[\"avg_price_5\"]/df_new[\"avg_price_30\"]\n",
    "    df_new[\"avg_price_5_365\"] = df_new[\"avg_price_5\"]/df_new[\"avg_price_365\"]\n",
    "    df_new[\"avg_price_30_365\"] = df_new[\"avg_price_30\"]/df_new[\"avg_price_365\"]"
   ]
  },
  {
   "cell_type": "code",
   "execution_count": 9,
   "id": "20f7465c",
   "metadata": {},
   "outputs": [],
   "source": [
    "def add_avg_volume(df, df_new):\n",
    "    df_new[\"avg_volume_5\"] = df[\"Volume\"].rolling(5).mean().shift(1)\n",
    "    df_new[\"avg_volume_30\"] = df[\"Volume\"].rolling(21).mean().shift(1)\n",
    "    df_new[\"avg_volume_365\"] = df[\"Volume\"].rolling(252).mean().shift(1)\n",
    "    df_new[\"avg_volume_5_30\"] = df_new[\"avg_volume_5\"]/df_new[\"avg_volume_30\"]\n",
    "    df_new[\"avg_volume_5_365\"] = df_new[\"avg_volume_5\"]/df_new[\"avg_volume_365\"]\n",
    "    df_new[\"avg_volume_30_365\"] = df_new[\"avg_volume_30\"]/df_new[\"avg_volume_365\"]"
   ]
  },
  {
   "cell_type": "code",
   "execution_count": 10,
   "id": "cc25c25e",
   "metadata": {},
   "outputs": [],
   "source": [
    "def add_std_price(df, df_new):\n",
    "    df_new[\"std_price_5\"] = df[\"Close\"].rolling(5).std().shift(1)\n",
    "    df_new[\"std_price_30\"] = df[\"Close\"].rolling(21).std().shift(1)\n",
    "    df_new[\"std_price_365\"] = df[\"Close\"].rolling(252).std().shift(1)\n",
    "    df_new[\"std_price_5_30\"] = df_new[\"std_price_5\"]/df_new[\"std_price_30\"]\n",
    "    df_new[\"std_price_5_365\"] = df_new[\"std_price_5\"]/df_new[\"std_price_365\"]\n",
    "    df_new[\"std_price_30_365\"] = df_new[\"std_price_30\"]/df_new[\"std_price_365\"]"
   ]
  },
  {
   "cell_type": "code",
   "execution_count": 11,
   "id": "643d0efe",
   "metadata": {},
   "outputs": [],
   "source": [
    "def add_std_volume(df, df_new):\n",
    "    df_new[\"std_volume_5\"] = df[\"Volume\"].rolling(5).std().shift(1)\n",
    "    df_new[\"std_volume_30\"] = df[\"Volume\"].rolling(21).std().shift(1)\n",
    "    df_new[\"std_volume_365\"] = df[\"Volume\"].rolling(252).std().shift(1)\n",
    "    df_new[\"std_volume_5_30\"] = df_new[\"std_volume_5\"]/df_new[\"std_volume_30\"]\n",
    "    df_new[\"std_volume_5_365\"] = df_new[\"std_volume_5\"]/df_new[\"std_volume_365\"]\n",
    "    df_new[\"std_volume_30_365\"] = df_new[\"std_volume_30\"]/df_new[\"std_volume_365\"]"
   ]
  },
  {
   "cell_type": "code",
   "execution_count": 12,
   "id": "13cb695a",
   "metadata": {},
   "outputs": [],
   "source": [
    "def add_return_features(df, df_new):\n",
    "    df_new[\"return_1\"] = ((df[\"Close\"] - df[\"Close\"].shift(1))/df[\"Close\"].shift(1)).shift(1)\n",
    "    df_new[\"return_5\"] = ((df[\"Close\"] - df[\"Close\"].shift(5))/df[\"Close\"].shift(5)).shift(1)\n",
    "    df_new[\"return_30\"] = ((df[\"Close\"] - df[\"Close\"].shift(21))/df[\"Close\"].shift(21)).shift(1)\n",
    "    df_new[\"return_365\"] = ((df[\"Close\"] - df[\"Close\"].shift(252))/df[\"Close\"].shift(252)).shift(1)\n",
    "    df_new[\"return_avg_5\"] = df_new[\"return_1\"].rolling(5).mean().shift(1)\n",
    "    df_new[\"return_avg_30\"] = df_new[\"return_30\"].rolling(21).mean().shift(1)\n",
    "    df_new[\"return_avg_365\"] = df_new[\"return_365\"].rolling(252).mean().shift(1)"
   ]
  },
  {
   "cell_type": "code",
   "execution_count": 13,
   "id": "c05aabd7",
   "metadata": {},
   "outputs": [],
   "source": [
    "def generate_features(df):\n",
    "    \"\"\"\n",
    "    This function combines all the functions previously created and creates the final dataframe.\n",
    "    \"\"\"\n",
    "    df_new = pd.DataFrame()\n",
    "    add_original_features(df, df_new)\n",
    "    add_avg_price(df, df_new)\n",
    "    add_avg_volume(df, df_new)\n",
    "    add_std_price(df, df_new)\n",
    "    add_std_volume(df, df_new)\n",
    "    add_return_features(df, df_new)\n",
    "    df_new = df_new.dropna(axis = 0)  ## Droppping all the rows containing na values\n",
    "    return df_new"
   ]
  },
  {
   "cell_type": "code",
   "execution_count": 14,
   "id": "f9ec8b52",
   "metadata": {},
   "outputs": [],
   "source": [
    "df_new = generate_features(df)"
   ]
  },
  {
   "cell_type": "code",
   "execution_count": 15,
   "id": "6b18dbaf",
   "metadata": {},
   "outputs": [],
   "source": [
    "## Matching the length of df_new to df as df has more number of entries \n",
    "df_trunc = df.copy()   ## But before taking a backup\n",
    "df_trunc = df_trunc.loc[df_new.index, :]"
   ]
  },
  {
   "cell_type": "markdown",
   "id": "43ea8bc1",
   "metadata": {},
   "source": [
    "## Implementing Linear Regression from scratch"
   ]
  },
  {
   "cell_type": "markdown",
   "id": "10cbcbb0",
   "metadata": {},
   "source": [
    "Cost function for linear regression"
   ]
  },
  {
   "attachments": {
    "image.png": {
     "image/png": "[encoded data removed]"
    }
   },
   "cell_type": "markdown",
   "id": "5f4c6367",
   "metadata": {},
   "source": [
    "![image.png](attachment:image.png)"
   ]
  },
  {
   "cell_type": "markdown",
   "id": "2b1c3430",
   "metadata": {},
   "source": [
    "Formula for updating weights for linear regression algorithm. It is derived using the partial derivative of the cost function."
   ]
  },
  {
   "attachments": {
    "image.png": {
     "image/png": "[encoded data removed]"
    }
   },
   "cell_type": "markdown",
   "id": "3afc78dd",
   "metadata": {},
   "source": [
    "![image.png](attachment:image.png)"
   ]
  },
  {
   "cell_type": "code",
   "execution_count": 99,
   "id": "1e9779f5",
   "metadata": {},
   "outputs": [],
   "source": [
    "# The weights here includes the bias term...therefore, we will have to include a row of ones\n",
    "# in the X_train/X_val/X_test matrices\n",
    "\n",
    "def compute_preds(weights, X_train):\n",
    "    return np.sum(weights*X_train, axis = 1)"
   ]
  },
  {
   "cell_type": "code",
   "execution_count": 93,
   "id": "b7fd5756",
   "metadata": {},
   "outputs": [],
   "source": [
    "def weights_update(weights, X_train, y_train, learning_rate):\n",
    "    m = X_train.shape[0]\n",
    "    delta = (1/m) * (np.dot(X_train.T, y_train - compute_preds(weights, X_train)))\n",
    "    weights += learning_rate * delta\n",
    "    return weights"
   ]
  },
  {
   "cell_type": "code",
   "execution_count": 94,
   "id": "bd7747bc",
   "metadata": {},
   "outputs": [],
   "source": [
    "def cost_fun(X_train, y_train, weights):\n",
    "    m = X_train.shape[0]\n",
    "    return (1/2*m) * np.sum((compute_preds(weights, X_train) - y_train)**2, axis = 0)"
   ]
  },
  {
   "cell_type": "code",
   "execution_count": 115,
   "id": "0d7a88d6",
   "metadata": {},
   "outputs": [],
   "source": [
    "def lin_reg(X_train, y_train, n_iters, learning_rate):\n",
    "    weights = np.zeros(X_train.shape[1] + 1)\n",
    "    X_train_ = np.c_[np.ones((X_train.shape[0], 1)), X_train]\n",
    "    for iter_ in np.arange(n_iters):\n",
    "        weights = weights_update(weights, X_train_, y_train, learning_rate)\n",
    "        cost = cost_fun(X_train_, y_train, weights)\n",
    "    return weights"
   ]
  },
  {
   "cell_type": "code",
   "execution_count": 116,
   "id": "beb303d1",
   "metadata": {},
   "outputs": [],
   "source": [
    "def  preds(weights, X):\n",
    "    X_ = np.c_[np.ones((X.shape[0], 1)), X]\n",
    "    return compute_preds(weights, X_)"
   ]
  },
  {
   "cell_type": "code",
   "execution_count": 128,
   "id": "f91e8ba0",
   "metadata": {},
   "outputs": [
    {
     "data": {
      "text/plain": [
       "[<matplotlib.lines.Line2D at 0x118f2438790>]"
      ]
     },
     "execution_count": 128,
     "metadata": {},
     "output_type": "execute_result"
    },
    {
     "data": {
      "image/png": "[encoded data removed]",
      "text/plain": [
       "<Figure size 800x600 with 1 Axes>"
      ]
     },
     "metadata": {},
     "output_type": "display_data"
    }
   ],
   "source": [
    "## Checking the linear regression function using a dummy dataset\n",
    "\n",
    "X_train = np.array([[6], [2], [3], [4], [1],  [5], [2], [6], [4], [7]])\n",
    "y_train = np.array([5.5, 1.6, 2.2, 3.7, 0.8, 5.2, 1.5, 5.3, 4.4, 6.8])\n",
    "\n",
    "weights = lin_reg(X_train, y_train, 100, 0.01)\n",
    "\n",
    "plt.scatter(X_train, y_train)\n",
    "plt.plot(X_train, preds(weights, X_train), color = \"black\", linestyle = \"dashed\")"
   ]
  },
  {
   "cell_type": "markdown",
   "id": "37c16fe3",
   "metadata": {},
   "source": [
    "The above implementation of linear regression algorithm is for practice only. It also helps us to understand the basics of the linear regression model."
   ]
  },
  {
   "cell_type": "markdown",
   "id": "4ca02424",
   "metadata": {},
   "source": [
    "## Implementing Decision Tree Regression algorithm from scratch"
   ]
  },
  {
   "cell_type": "code",
   "execution_count": null,
   "id": "f9dd130b",
   "metadata": {},
   "outputs": [],
   "source": []
  }
 ],
 "metadata": {
  "kernelspec": {
   "display_name": "Python 3 (ipykernel)",
   "language": "python",
   "name": "python3"
  },
  "language_info": {
   "codemirror_mode": {
    "name": "ipython",
    "version": 3
   },
   "file_extension": ".py",
   "mimetype": "text/x-python",
   "name": "python",
   "nbconvert_exporter": "python",
   "pygments_lexer": "ipython3",
   "version": "3.10.8"
  }
 },
 "nbformat": 4,
 "nbformat_minor": 5
}
